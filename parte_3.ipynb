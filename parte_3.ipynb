{
  "nbformat": 4,
  "nbformat_minor": 0,
  "metadata": {
    "colab": {
      "name": "parte_3.ipynb",
      "provenance": [],
      "collapsed_sections": [],
      "authorship_tag": "ABX9TyOluhI9+0g7ImPArPBxmWcE",
      "include_colab_link": true
    },
    "kernelspec": {
      "name": "python3",
      "display_name": "Python 3"
    },
    "language_info": {
      "name": "python"
    }
  },
  "cells": [
    {
      "cell_type": "markdown",
      "metadata": {
        "id": "view-in-github",
        "colab_type": "text"
      },
      "source": [
        "<a href=\"https://colab.research.google.com/github/gcolares95/Ocean_Jonada_Python/blob/main/parte_3.ipynb\" target=\"_parent\"><img src=\"https://colab.research.google.com/assets/colab-badge.svg\" alt=\"Open In Colab\"/></a>"
      ]
    },
    {
      "cell_type": "code",
      "metadata": {
        "colab": {
          "base_uri": "https://localhost:8080/"
        },
        "id": "5fThwmpP_zMj",
        "outputId": "626a1b59-e082-4605-f16f-69cdbe42337e"
      },
      "source": [
        "# Declaração \n",
        "def teste(celsius, fahrenheit):\n",
        "  F = (9 * celsius / 5) + 32\n",
        "  print(f'{celsius} C = {F} F')\n",
        "\n",
        "  C = 5 * (fahrenheit - 32) /9\n",
        "  print(f'{fahrenheit} F = {C} C')\n",
        "\n",
        "# execução \n",
        "teste(100,212)"
      ],
      "execution_count": null,
      "outputs": [
        {
          "output_type": "stream",
          "text": [
            "100 C = 212.0 F\n",
            "212 F = 100.0 C\n"
          ],
          "name": "stdout"
        }
      ]
    },
    {
      "cell_type": "code",
      "metadata": {
        "colab": {
          "base_uri": "https://localhost:8080/"
        },
        "id": "7voT1kpdDlTH",
        "outputId": "1f0b9fad-5b21-4c25-fd22-42e8ad4b6659"
      },
      "source": [
        "# Celsius para fahrenheit\n",
        "\n",
        "# Declaração \n",
        "def converter_celsius_para_fahrenheit(celsius):\n",
        "  F = (9 * celsius /5) + 32\n",
        "  print(f'{celsius} C = {F} F')\n",
        "\n",
        "# Execução\n",
        "converter_celsius_para_fahrenheit(100)\n",
        "\n",
        "# Fahrenheit para Celsius\n",
        "\n",
        "# Declração \n",
        "def converter_fahrenheit_para_celsius(fahrenheit):\n",
        "  celsius= 5 * (fahrenheit - 32) / 9\n",
        "  print(f'{fahrenheit} F = {celsius} C ')\n",
        "\n",
        "# Execução\n",
        "converter_fahrenheit_para_celsius(212)\n",
        "\n"
      ],
      "execution_count": null,
      "outputs": [
        {
          "output_type": "stream",
          "text": [
            "100 C = 212.0 F\n",
            "212 F = 100.0 C \n"
          ],
          "name": "stdout"
        }
      ]
    },
    {
      "cell_type": "code",
      "metadata": {
        "colab": {
          "base_uri": "https://localhost:8080/"
        },
        "id": "i8ezWKhYHA4F",
        "outputId": "25a0ad8c-2522-47b3-c247-6dc7aa94d05a"
      },
      "source": [
        "# Deixando o usuário escolher o que quer fazer \n",
        "\n",
        "usuario = input(\"Você quer converter para qual escala? ('C' para celsius ou 'F' para Fahrenheit)\\n\")\n",
        "\n",
        "if escolha_usuario == \"C\":\n",
        "  escala = \"F\"\n",
        "elif escolha_usuario == \"F\":\n",
        "  escala = \"C\"\n",
        "\n",
        "temperatura = float(input(f'Digite o valor da temperatura em {escala}:'))\n",
        "\n",
        "# print(escolha_usuario, type(escolha_usuario))\n",
        "# print(temperatura, type(temperatura))\n",
        "\n",
        "if escolha_usuario == \"C\":\n",
        "  converter_fahrenheit_para_celsius(temperatura)\n",
        "\n",
        "elif escolha_usuario == \"F\":\n",
        "  converter_celsius_para_fahrenheit(temperatura)\n",
        "\n"
      ],
      "execution_count": null,
      "outputs": [
        {
          "output_type": "stream",
          "text": [
            "Você quer converter para qual escala? ('C' para celsius ou 'F' para Fahrenheit)\n",
            "C\n",
            "Digite o valor da temperatura em F:212\n",
            "212.0 F = 100.0 C \n"
          ],
          "name": "stdout"
        }
      ]
    },
    {
      "cell_type": "code",
      "metadata": {
        "colab": {
          "base_uri": "https://localhost:8080/"
        },
        "id": "Z9s7qW2dS7gm",
        "outputId": "787da906-eef5-4907-9a83-452607f5914b"
      },
      "source": [
        "def teste(a, b): # parâmetro, que será o argumento recebido\n",
        "  print(\"teste foi chamado\" , a, b)\n",
        "\n",
        "teste(4, 10)"
      ],
      "execution_count": null,
      "outputs": [
        {
          "output_type": "stream",
          "text": [
            "teste foi chamado 4 10\n"
          ],
          "name": "stdout"
        }
      ]
    },
    {
      "cell_type": "code",
      "metadata": {
        "colab": {
          "base_uri": "https://localhost:8080/"
        },
        "id": "ntGMNLIETQ3j",
        "outputId": "98541283-f141-474d-9a70-612fceb4ab82"
      },
      "source": [
        "# funções com retorno \n",
        "\n",
        "def soma(a, b):\n",
        "  return a + b\n",
        "\n",
        "print(5, type(5))\n",
        "print(10, type(10))\n",
        "print(\"soma(5, 10)\", soma(5, 10), type(soma(5, 10)))\n",
        "\n",
        "resultado_soma1 = soma(5, 10)\n",
        "print(\"resultado_soma1\", resultado_soma1, type(resultado_soma1))\n",
        "\n",
        "resultado_soma2 = soma(10, 20)\n",
        "print(\"resultado_soma2\", resultado_soma2, type(resultado_soma2))\n",
        "\n",
        "resultado_soma3 = soma(30, 40)\n",
        "print(\"resultado_soma3\", resultado_soma3, type(resultado_soma3))\n",
        "\n",
        "resultado_final = soma(resultado_soma, resultado_soma2, resultado_soma3)\n",
        "\n"
      ],
      "execution_count": null,
      "outputs": [
        {
          "output_type": "stream",
          "text": [
            "5 <class 'int'>\n",
            "10 <class 'int'>\n",
            "soma(5, 10) 15 <class 'int'>\n",
            "resultado_soma1 15 <class 'int'>\n",
            "resultado_soma2 30 <class 'int'>\n",
            "resultado_soma3 70 <class 'int'>\n"
          ],
          "name": "stdout"
        }
      ]
    },
    {
      "cell_type": "code",
      "metadata": {
        "id": "CBB4_pvaTZnO",
        "colab": {
          "base_uri": "https://localhost:8080/"
        },
        "outputId": "4a7a6056-9a07-4773-918f-f59ce04096c0"
      },
      "source": [
        "def calculadora(a, b):\n",
        "  return a + b\n",
        "\n",
        "def monitor(informacao):\n",
        "  print(informacao)\n",
        "\n",
        "def enviar_para_impressora(informacao):\n",
        "  print(\"Print Page A4:\", informacao)\n",
        "\n",
        "def progama():\n",
        "  resultado = calculadora(10, 20)\n",
        "  monitor(resultado)\n",
        "\n",
        "  enviar_para_impressora(resultado)\n",
        "\n",
        "progama()"
      ],
      "execution_count": null,
      "outputs": [
        {
          "output_type": "stream",
          "text": [
            "30\n",
            "Print Page A4: 30\n"
          ],
          "name": "stdout"
        }
      ]
    },
    {
      "cell_type": "code",
      "metadata": {
        "colab": {
          "base_uri": "https://localhost:8080/"
        },
        "id": "35kym8XLZ9Te",
        "outputId": "0c2ce9cf-e2b8-47f1-b196-475628eb3455"
      },
      "source": [
        "# Lista\n",
        "#                 Valores da lista\n",
        "numeros = [5, 9, 10, 20 , 40, 80, 120, 300, 500, 900, 1000]\n",
        "# índices [0, 1, 2, 3, 4, 5, 6, ...]\n",
        "\n",
        "print(numeros, type(numeros))\n",
        "\n",
        "print() \n",
        "primeiro_numero = numeros[0]\n",
        "\n",
        "print(\"primeiro número:\", primeiro_numero, type(primeiro_numero))\n",
        "\n",
        "quantidade_numeros = len(numeros)\n",
        "\n",
        "print(\"Quantidade de numeros na lista: \", quantidade_numeros)\n",
        "\n",
        "ultimo_indice = quantidade_numeros - 1\n",
        "ultimo_numero = numeros[ultimo_indice]\n",
        "\n",
        "print(\"ultimo número: \", ultimo_numero, type(ultimo_numero))"
      ],
      "execution_count": null,
      "outputs": [
        {
          "output_type": "stream",
          "text": [
            "[5, 9, 10, 20, 40, 80, 120, 300, 500, 900, 1000] <class 'list'>\n",
            "\n",
            "primeiro número: 5 <class 'int'>\n",
            "Quantidade de numeros na lista:  11\n",
            "ultimo número:  1000 <class 'int'>\n"
          ],
          "name": "stdout"
        }
      ]
    },
    {
      "cell_type": "code",
      "metadata": {
        "colab": {
          "base_uri": "https://localhost:8080/"
        },
        "id": "utUnSFv-aMEX",
        "outputId": "90d2db0d-dd12-46d0-fcb9-48902a3c9cd2"
      },
      "source": [
        "# Abreviando a maneira de pegar o último número\n",
        "\n",
        "numeros = [5, 9, 10, 20]\n",
        "        # [0, 1, 2, 3] (índices)\n",
        "\n",
        "ultimo_numero = numeros[len(numeros) - 1]\n",
        "\n",
        "print(\"ultimo numero:\", ultimo_numero, type(ultimo_numero))\n",
        "\n",
        "# podemos também remover o len() e deixar apenas o '-1' que o python faz pra gene\n",
        "ultimo_numero = numeros[-1]\n",
        "print(\"Ultimo numero:\", ultimo_numero)"
      ],
      "execution_count": null,
      "outputs": [
        {
          "output_type": "stream",
          "text": [
            "ultimo numero: 20 <class 'int'>\n",
            "Ultimo numero: 20\n"
          ],
          "name": "stdout"
        }
      ]
    },
    {
      "cell_type": "code",
      "metadata": {
        "colab": {
          "base_uri": "https://localhost:8080/"
        },
        "id": "DJn_y4ZfajYQ",
        "outputId": "55010ea2-41dc-4c7f-8141-a0a69fc65c68"
      },
      "source": [
        "# Mudando os valores de uma lista\n",
        "\n",
        "numeros = [5, 9, 10, 20]\n",
        "\n",
        "print(\"Primeira número:\", numeros[0], numeros)\n",
        "print(\"Último número:\", numeros[-1], numeros)\n",
        "\n",
        "numeros[0] = 90\n",
        "\n",
        "print(\"Primeiro número alterado:\", numeros[0], numeros)\n",
        "\n",
        "numeros[-1] = 15\n",
        "\n",
        "print(\"último número alterado:\", numeros[-1], numeros)\n"
      ],
      "execution_count": null,
      "outputs": [
        {
          "output_type": "stream",
          "text": [
            "Primeira número: 5 [5, 9, 10, 20]\n",
            "Último número: 20 [5, 9, 10, 20]\n",
            "Primeiro número alterado: 90 [90, 9, 10, 20]\n",
            "último número alterado: 15 [90, 9, 10, 15]\n"
          ],
          "name": "stdout"
        }
      ]
    },
    {
      "cell_type": "code",
      "metadata": {
        "colab": {
          "base_uri": "https://localhost:8080/"
        },
        "id": "EZUn6chkphsE",
        "outputId": "44957c22-59bd-4da1-9e96-d631b2df42cc"
      },
      "source": [
        "# Lista vazias\n",
        "\n",
        "lista = []\n",
        "\n",
        "print(lista, len(lista), type(lista))"
      ],
      "execution_count": null,
      "outputs": [
        {
          "output_type": "stream",
          "text": [
            "[] 0 <class 'list'>\n"
          ],
          "name": "stdout"
        }
      ]
    },
    {
      "cell_type": "code",
      "metadata": {
        "colab": {
          "base_uri": "https://localhost:8080/"
        },
        "id": "u5unMWVkqdvI",
        "outputId": "c1001d3d-c819-4e93-a6fe-db62d2592762"
      },
      "source": [
        "numeros = [12]\n",
        "\n",
        "print(numeros, len(numeros), type(numeros))"
      ],
      "execution_count": null,
      "outputs": [
        {
          "output_type": "stream",
          "text": [
            "[12] 1 <class 'list'>\n"
          ],
          "name": "stdout"
        }
      ]
    },
    {
      "cell_type": "code",
      "metadata": {
        "colab": {
          "base_uri": "https://localhost:8080/"
        },
        "id": "9X4hCuD1sBLn",
        "outputId": "ce8b9beb-29b2-4c41-d79a-01b62681f5d0"
      },
      "source": [
        "# Adicionado elementos na lista\n",
        "\n",
        "numeros = []\n",
        "\n",
        "print(numeros, len(numeros), type(numeros))\n",
        "\n",
        "numeros.append(10)\n",
        "numeros.append(20)\n",
        "numeros.append(30)\n",
        "numeros.append(40)\n",
        "numeros.append(50) # adicionando no final\n",
        "numeros.insert(0, 700) # inserindo no inicio\n",
        "\n",
        "print(numeros, len(numeros), type(numeros))"
      ],
      "execution_count": null,
      "outputs": [
        {
          "output_type": "stream",
          "text": [
            "[] 0 <class 'list'>\n",
            "[700, 10, 20, 30, 40, 50] 6 <class 'list'>\n"
          ],
          "name": "stdout"
        }
      ]
    },
    {
      "cell_type": "code",
      "metadata": {
        "colab": {
          "base_uri": "https://localhost:8080/"
        },
        "id": "N0zRXcZ0tHiE",
        "outputId": "2c80b942-9e91-46c1-c599-c6e692d5aef2"
      },
      "source": [
        "# Ordenando uma lista\n",
        "\n",
        "numeros = [9, 3, 4, 77, 1, 6, 5, 300, 20]\n",
        "\n",
        "numeros.sort(reverse=True)\n",
        "\n",
        "print(numeros)\n",
        "\n",
        "numeros.sort(reverse=False)\n",
        "\n",
        "print(numeros)"
      ],
      "execution_count": null,
      "outputs": [
        {
          "output_type": "stream",
          "text": [
            "[300, 77, 20, 9, 6, 5, 4, 3, 1]\n",
            "[1, 3, 4, 5, 6, 9, 20, 77, 300]\n"
          ],
          "name": "stdout"
        }
      ]
    },
    {
      "cell_type": "code",
      "metadata": {
        "colab": {
          "base_uri": "https://localhost:8080/"
        },
        "id": "Q6s4FZRZtbuI",
        "outputId": "5f9a7750-59c2-4388-fd1f-eb546309c4f5"
      },
      "source": [
        "# Visualizando todos os itens de uma lista\n",
        "# Declaração: 'for'\n",
        "\n",
        "numeros = [10, 20, 30, 40, 50]\n",
        "\n",
        "for numero in numeros:\n",
        "  print(numero)"
      ],
      "execution_count": null,
      "outputs": [
        {
          "output_type": "stream",
          "text": [
            "10\n",
            "20\n",
            "30\n",
            "40\n",
            "50\n"
          ],
          "name": "stdout"
        }
      ]
    },
    {
      "cell_type": "code",
      "metadata": {
        "colab": {
          "base_uri": "https://localhost:8080/"
        },
        "id": "BbwVywM9umkD",
        "outputId": "527335c7-eb53-4549-ebf5-4232c7c06acc"
      },
      "source": [
        "# Visualizando todos os itens de uma lista\n",
        "# Declaração: 'for'\n",
        "\n",
        "# for valor in lista:\n",
        "#   Executo uma vez para cada valor.\n",
        "#   Em cada execução, a variável 'valor' possui uma informação diferente\n",
        "# Exemplo: muma lista com [4, 12, 6]\n",
        "# Se tivermos: for valor in lista:\n",
        "# temos na 'primeira execução do for a informação '4' para a variável 'valor'\n",
        "# Temos na 'segunda'execução do for a informação '12' para variável 'valor'\n",
        "# Temos na 'terceira execução do for a informação '6' para a variável 'valor'\n",
        "\n",
        "numeros = [10, 20, 30 ,40 , 50]\n",
        "numeros_em_dobro = []\n",
        "\n",
        "for numero in numeros:\n",
        "  \n",
        "  numeros_em_dobro.append(numero * 2) # adicionando no final o número multiplicado por 2\n",
        "\n",
        "  print(\"Execução do for para o número:\", f\"{numero} * 2 = {numero * 2}\", numeros_em_dobro)\n",
        "\n",
        "  print()\n",
        "\n",
        "  print(\"lista final numeros\", numeros)\n",
        "  print(\"lista final\", numeros_em_dobro)"
      ],
      "execution_count": null,
      "outputs": [
        {
          "output_type": "stream",
          "text": [
            "Execução do for para o número: 10 * 2 = 20 [20]\n",
            "\n",
            "lista final numeros [10, 20, 30, 40, 50]\n",
            "lista final [20]\n",
            "Execução do for para o número: 20 * 2 = 40 [20, 40]\n",
            "\n",
            "lista final numeros [10, 20, 30, 40, 50]\n",
            "lista final [20, 40]\n",
            "Execução do for para o número: 30 * 2 = 60 [20, 40, 60]\n",
            "\n",
            "lista final numeros [10, 20, 30, 40, 50]\n",
            "lista final [20, 40, 60]\n",
            "Execução do for para o número: 40 * 2 = 80 [20, 40, 60, 80]\n",
            "\n",
            "lista final numeros [10, 20, 30, 40, 50]\n",
            "lista final [20, 40, 60, 80]\n",
            "Execução do for para o número: 50 * 2 = 100 [20, 40, 60, 80, 100]\n",
            "\n",
            "lista final numeros [10, 20, 30, 40, 50]\n",
            "lista final [20, 40, 60, 80, 100]\n"
          ],
          "name": "stdout"
        }
      ]
    },
    {
      "cell_type": "code",
      "metadata": {
        "colab": {
          "base_uri": "https://localhost:8080/"
        },
        "id": "QTNXob5j0CqX",
        "outputId": "23ad77fe-6be8-4e1e-e584-c856a9d8de9f"
      },
      "source": [
        "# For indexado, em que temos acesso ao índice de cada valor\n",
        "\n",
        "for indice in range(10):\n",
        "  print(indice)\n",
        "\n"
      ],
      "execution_count": null,
      "outputs": [
        {
          "output_type": "stream",
          "text": [
            "0\n",
            "1\n",
            "2\n",
            "3\n",
            "4\n",
            "5\n",
            "6\n",
            "7\n",
            "8\n",
            "9\n"
          ],
          "name": "stdout"
        }
      ]
    },
    {
      "cell_type": "code",
      "metadata": {
        "colab": {
          "base_uri": "https://localhost:8080/"
        },
        "id": "yMROXtfQ05Uu",
        "outputId": "b21015dc-fda9-464f-d74c-08ccfc352a67"
      },
      "source": [
        "numeros = [9, 4, 3, 7, 5]\n",
        "# for indexado, em que temos acessa ao índice de cada valor\n",
        "\n",
        "for indice in range(len(numeros)):\n",
        "  numero = numeros[indice]\n",
        "  print(\"Indice\", indice, \"temos o valor\", numero)\n",
        "\n",
        "  if indice == 2:\n",
        "    break"
      ],
      "execution_count": null,
      "outputs": [
        {
          "output_type": "stream",
          "text": [
            "Indice 0 temos o valor 9\n",
            "Indice 1 temos o valor 4\n",
            "Indice 2 temos o valor 3\n"
          ],
          "name": "stdout"
        }
      ]
    },
    {
      "cell_type": "code",
      "metadata": {
        "colab": {
          "base_uri": "https://localhost:8080/"
        },
        "id": "euaIGBiK2Wwh",
        "outputId": "710f82df-8334-4fc1-86d0-0239a0ba50ff"
      },
      "source": [
        "numeros = [7, 3, 9]\n",
        "indice = 1\n",
        "print(numeros[indice])"
      ],
      "execution_count": null,
      "outputs": [
        {
          "output_type": "stream",
          "text": [
            "3\n"
          ],
          "name": "stdout"
        }
      ]
    },
    {
      "cell_type": "code",
      "metadata": {
        "colab": {
          "base_uri": "https://localhost:8080/"
        },
        "id": "EZq9gtIK2oTX",
        "outputId": "6b0121c9-077b-43ab-e3ce-5a3e59d2bff0"
      },
      "source": [
        "# Introduzindo um pouco do enumerate\n",
        "\n",
        "numeros = [9, 12, 4, 7, 3]\n",
        "\n",
        "enum = enumerate(numeros)\n",
        "lista = list(enum)\n",
        "\n",
        "print(lista, type(lista))"
      ],
      "execution_count": null,
      "outputs": [
        {
          "output_type": "stream",
          "text": [
            "[(0, 9), (1, 12), (2, 4), (3, 7), (4, 3)] <class 'list'>\n"
          ],
          "name": "stdout"
        }
      ]
    },
    {
      "cell_type": "code",
      "metadata": {
        "colab": {
          "base_uri": "https://localhost:8080/"
        },
        "id": "hswnD6225Nil",
        "outputId": "51c5519c-d3e6-4165-8f5a-91f11b3970f2"
      },
      "source": [
        "# Tuplas --> Parecem muito com as listas\n",
        "\n",
        "tupla = (1, 5, 9, 7, 6)\n",
        "\n",
        "print(tupla, type(tupla))"
      ],
      "execution_count": null,
      "outputs": [
        {
          "output_type": "stream",
          "text": [
            "(1, 5, 9, 7, 6) <class 'tuple'>\n"
          ],
          "name": "stdout"
        }
      ]
    },
    {
      "cell_type": "code",
      "metadata": {
        "colab": {
          "base_uri": "https://localhost:8080/"
        },
        "id": "CS7AmSum5cTc",
        "outputId": "567b7884-8451-4116-a16e-7b50e607ab68"
      },
      "source": [
        "# Acessando elementos das tuplas\n",
        "\n",
        "numeros = (9, 7, 6, 3, 4, 65)\n",
        "\n",
        "primeiro_numero = numeros[0]\n",
        "\n",
        "print(primeiro_numero, type(primeiro_numero))"
      ],
      "execution_count": null,
      "outputs": [
        {
          "output_type": "stream",
          "text": [
            "9 <class 'int'>\n"
          ],
          "name": "stdout"
        }
      ]
    },
    {
      "cell_type": "code",
      "metadata": {
        "colab": {
          "base_uri": "https://localhost:8080/"
        },
        "id": "YWxZx0et6EzB",
        "outputId": "96ccf34d-7d3c-4b3a-862a-bc916e6fa096"
      },
      "source": [
        "numeros = 5,7\n",
        "\n",
        "print(numeros, type(numeros))"
      ],
      "execution_count": null,
      "outputs": [
        {
          "output_type": "stream",
          "text": [
            "(5, 7) <class 'tuple'>\n"
          ],
          "name": "stdout"
        }
      ]
    },
    {
      "cell_type": "code",
      "metadata": {
        "colab": {
          "base_uri": "https://localhost:8080/"
        },
        "id": "WVROdLwc6RW0",
        "outputId": "5a0aefe4-558a-4aa5-a76e-14ef63d8435e"
      },
      "source": [
        "numeros = 5,\n",
        "print(numeros, type(numeros))"
      ],
      "execution_count": null,
      "outputs": [
        {
          "output_type": "stream",
          "text": [
            "(5,) <class 'tuple'>\n"
          ],
          "name": "stdout"
        }
      ]
    },
    {
      "cell_type": "code",
      "metadata": {
        "colab": {
          "base_uri": "https://localhost:8080/"
        },
        "id": "p9NYxtb46Udl",
        "outputId": "9d3ba74e-8ef5-4020-8dbb-bc89512b86d8"
      },
      "source": [
        "tupla = (\"Guilherme\", \"Colares\")\n",
        "\n",
        "print(tupla, type(tupla))\n",
        "\n",
        "nome = tupla[0]\n",
        "sobrenome = tupla[1]\n",
        "\n",
        "print('Nome é:', nome, type(nome))\n",
        "print('Sobrenome é:', sobrenome, type(nome))"
      ],
      "execution_count": null,
      "outputs": [
        {
          "output_type": "stream",
          "text": [
            "('Guilherme', 'Colares') <class 'tuple'>\n",
            "Nome é: Guilherme <class 'str'>\n",
            "Sobrenome é: Colares <class 'str'>\n"
          ],
          "name": "stdout"
        }
      ]
    },
    {
      "cell_type": "code",
      "metadata": {
        "colab": {
          "base_uri": "https://localhost:8080/"
        },
        "id": "timAncdy7DC9",
        "outputId": "c9223c2a-fb1a-4aab-a4ba-925e5d89b088"
      },
      "source": [
        "numeros = [30, 6, 1, 9, 6]\n",
        "\n",
        "enum = enumerate(numeros)\n",
        "\n",
        "lista = list(enum)\n",
        "\n",
        "# Transformo o enum em lista apenas para exibí-la no print\n",
        "print(lista, type(lista))\n",
        "\n",
        "print(lista[0], type(lista[0]))\n",
        "\n",
        "indice, valor = lista[0]\n",
        "\n",
        "print(indice, valor, type(indice), type(valor))\n"
      ],
      "execution_count": null,
      "outputs": [
        {
          "output_type": "stream",
          "text": [
            "[(0, 30), (1, 6), (2, 1), (3, 9), (4, 6)] <class 'list'>\n",
            "(0, 30) <class 'tuple'>\n",
            "0 30 <class 'int'> <class 'int'>\n"
          ],
          "name": "stdout"
        }
      ]
    },
    {
      "cell_type": "code",
      "metadata": {
        "colab": {
          "base_uri": "https://localhost:8080/"
        },
        "id": "S62VvM5o8VoN",
        "outputId": "a60f18d5-dafe-415d-a5a6-00779164f6c0"
      },
      "source": [
        "numeros = [9, 6, 7, 9, 2, 4, 3]\n",
        "\n",
        "for indice, valor in enumerate(numeros):\n",
        "  print(\"Indice - Valor\")\n",
        "  print(indice, '-------', valor)"
      ],
      "execution_count": null,
      "outputs": [
        {
          "output_type": "stream",
          "text": [
            "Indice - Valor\n",
            "0 ------- 9\n",
            "Indice - Valor\n",
            "1 ------- 6\n",
            "Indice - Valor\n",
            "2 ------- 7\n",
            "Indice - Valor\n",
            "3 ------- 9\n",
            "Indice - Valor\n",
            "4 ------- 2\n",
            "Indice - Valor\n",
            "5 ------- 4\n",
            "Indice - Valor\n",
            "6 ------- 3\n"
          ],
          "name": "stdout"
        }
      ]
    },
    {
      "cell_type": "code",
      "metadata": {
        "colab": {
          "base_uri": "https://localhost:8080/"
        },
        "id": "ijjsHY9z8xST",
        "outputId": "45da248f-2371-4583-888e-f26fa88022f9"
      },
      "source": [
        "tupla = (5, 6, 9, 7, 3)\n",
        "\n",
        "print(tupla, type(tupla))\n",
        "\n",
        "\n",
        "#Transforma qualquer coisa em lista (desde que seja um tipo suportado)\n",
        "lista = list(tupla)\n",
        "\n",
        "print(lista, type(lista))\n",
        "\n",
        "lista[0] = 9\n",
        "\n",
        "print(lista)\n",
        "\n",
        "tupla = tuple(lista) # transformando para tupla\n",
        "\n",
        "print(tupla) "
      ],
      "execution_count": null,
      "outputs": [
        {
          "output_type": "stream",
          "text": [
            "(5, 6, 9, 7, 3) <class 'tuple'>\n",
            "[5, 6, 9, 7, 3] <class 'list'>\n",
            "[9, 6, 9, 7, 3]\n",
            "(9, 6, 9, 7, 3)\n"
          ],
          "name": "stdout"
        }
      ]
    },
    {
      "cell_type": "code",
      "metadata": {
        "colab": {
          "base_uri": "https://localhost:8080/"
        },
        "id": "kvMd_xUw9cWy",
        "outputId": "60e0a2c5-690c-46c9-f466-89070a9972f7"
      },
      "source": [
        "numeros = [9, 6, 7, 9, 2, 4, 3]\n",
        "\n",
        "for indice, valor in enumerate(numeros):\n",
        "  print(indice, valor)"
      ],
      "execution_count": null,
      "outputs": [
        {
          "output_type": "stream",
          "text": [
            "0 9\n",
            "1 6\n",
            "2 7\n",
            "3 9\n",
            "4 2\n",
            "5 4\n",
            "6 3\n"
          ],
          "name": "stdout"
        }
      ]
    },
    {
      "cell_type": "code",
      "metadata": {
        "colab": {
          "base_uri": "https://localhost:8080/"
        },
        "id": "ypyE19Ii9rsG",
        "outputId": "9f1d78e7-770c-4fca-f16e-1bf755cdd67a"
      },
      "source": [
        "tupla = 5, 6, 7, 6, 1, 9, 5, 2, 7, 3, 6\n",
        "\n",
        "# A função sum () adiciona os itens de um iterável e retorna a soma.\n",
        "print(sum(tupla))"
      ],
      "execution_count": null,
      "outputs": [
        {
          "output_type": "stream",
          "text": [
            "57\n"
          ],
          "name": "stdout"
        }
      ]
    },
    {
      "cell_type": "code",
      "metadata": {
        "colab": {
          "base_uri": "https://localhost:8080/"
        },
        "id": "Qsg6HrIf-MZu",
        "outputId": "4e252049-e873-4d91-c4b9-2006abd71537"
      },
      "source": [
        "\"\"\"\n",
        "Como classificar uma lista string em ordem alfabética: \n",
        "\"\"\"\n",
        "\n",
        "nomes = ['guilherme', 'julia', 'gabriel', 'samuel', 'anderson', 'felipe'] \n",
        "\n",
        "# nomes.sort()\n",
        "# ou: \n",
        "nomes.sort(reverse=False)\n",
        "\n",
        "print(nomes)"
      ],
      "execution_count": null,
      "outputs": [
        {
          "output_type": "stream",
          "text": [
            "['anderson', 'felipe', 'gabriel', 'guilherme', 'julia', 'samuel']\n"
          ],
          "name": "stdout"
        }
      ]
    },
    {
      "cell_type": "code",
      "metadata": {
        "colab": {
          "base_uri": "https://localhost:8080/"
        },
        "id": "7LhKvkKr-LFk",
        "outputId": "e3c7b767-243d-4ae1-a009-c57f741ef1a6"
      },
      "source": [
        "\"\"\"\n",
        "Se quiser que ele incremente de 2 em 2\n",
        "\"\"\"\n",
        "\n",
        "numeros = [10, 9, 6, 4, 7, 6, 6, 4, 1, 3, 9]\n",
        "\n",
        "for indice in range(0, len(numeros), 2):\n",
        "  print(indice)\n",
        "\n"
      ],
      "execution_count": null,
      "outputs": [
        {
          "output_type": "stream",
          "text": [
            "0\n",
            "2\n",
            "4\n",
            "6\n",
            "8\n",
            "10\n"
          ],
          "name": "stdout"
        }
      ]
    },
    {
      "cell_type": "code",
      "metadata": {
        "colab": {
          "base_uri": "https://localhost:8080/"
        },
        "id": "Bq3Sk6md_yzL",
        "outputId": "f6a66244-eb8e-43d7-966c-972bc7ef3741"
      },
      "source": [
        "\"\"\"\n",
        "E uma lista que tivesse um input pro usuário colocar os valores?\n",
        "\"\"\"\n",
        "\n",
        "numeros = []\n",
        "\n",
        "print(\"Digite 3 números...\")\n",
        "\n",
        "for indice in range(3):\n",
        "  numero = int(input('Digite um número: '))\n",
        "  numeros.append(numero)\n",
        "\n",
        "print(\"Os números digitados foram:\", numeros)"
      ],
      "execution_count": null,
      "outputs": [
        {
          "output_type": "stream",
          "text": [
            "Digite 3 números...\n",
            "Digite um número: 3\n",
            "Digite um número: 5\n",
            "Digite um número: 2\n",
            "Os números digitados foram: [3, 5, 2]\n"
          ],
          "name": "stdout"
        }
      ]
    }
  ]
}