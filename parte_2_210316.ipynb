{
  "nbformat": 4,
  "nbformat_minor": 0,
  "metadata": {
    "colab": {
      "name": "parte_2_210316.ipynb",
      "provenance": [],
      "collapsed_sections": [],
      "authorship_tag": "ABX9TyMFgOxjPwkNZtrlyol5llFd",
      "include_colab_link": true
    },
    "kernelspec": {
      "name": "python3",
      "display_name": "Python 3"
    }
  },
  "cells": [
    {
      "cell_type": "markdown",
      "metadata": {
        "id": "view-in-github",
        "colab_type": "text"
      },
      "source": [
        "<a href=\"https://colab.research.google.com/github/gcolares95/Ocean_Jonada_Python/blob/main/parte_2_210316.ipynb\" target=\"_parent\"><img src=\"https://colab.research.google.com/assets/colab-badge.svg\" alt=\"Open In Colab\"/></a>"
      ]
    },
    {
      "cell_type": "code",
      "metadata": {
        "id": "7Y-rNlTWBRBj",
        "colab": {
          "base_uri": "https://localhost:8080/"
        },
        "outputId": "ee9d6c85-d430-466f-b833-a2aad147c8b4"
      },
      "source": [
        "\"\"\"\n",
        "Exercício 3 \n",
        "\n",
        "Nível: Iniciante\n",
        "\"\"\"\n",
        "\n",
        "nome = input('Digite seu nome: ')\n",
        "idade = int(input('Informe sua idade '))\n",
        "genero = input('Qual seu gênero ? ')\n",
        "\n",
        "mostrar_idade = \"\"\n",
        "\n",
        "if idade == 1:\n",
        "  mostrar_idade = \"ano de idade\"\n",
        "elif idade >= 1:\n",
        "  mostrar_idade = \"anos de idade\"\n",
        "\n",
        "print(f'Olá, {nome}, você possui {idade} {mostrar_idade} e é do gênero {genero}.')\n",
        "print(f'Já pensou no que você fará no seu aniversário de {idade + 1} anos?')"
      ],
      "execution_count": null,
      "outputs": [
        {
          "output_type": "stream",
          "text": [
            "Digite seu nome: guilherme \n",
            "Informe sua idade 18\n",
            "Qual seu gênero ? masculino\n",
            "Olá, guilherme , você possui 18 anos de idade e é do gênero masculino.\n",
            "Já pensou no que você fará no seu aniversário de 19 anos?\n"
          ],
          "name": "stdout"
        }
      ]
    },
    {
      "cell_type": "code",
      "metadata": {
        "colab": {
          "base_uri": "https://localhost:8080/"
        },
        "id": "BF-oH18DVUm9",
        "outputId": "e2917283-2310-4c84-8943-c3d8fe1d0d0b"
      },
      "source": [
        "# Introduzindo um pouco a utilidade das funções\n",
        "\n",
        "def formar_exibicao_anos(valor):\n",
        "  if valor != 1:\n",
        "    return \"anos\"\n",
        "  else:\n",
        "    return \"ano\"\n",
        "  \n",
        "# Exemplo com a \"Pimentinha Extra\"  resolvida\n",
        "\n",
        "nome = input('Digite seu nome: ')\n",
        "idade = int(input('Informe sua idade '))\n",
        "genero = input('Qual seu gênero ? ')\n",
        "\n",
        "ano_soma = idade + 1\n",
        "\n",
        "print(f'Olá, {nome}, você possui {idade} {formar_exibicao_anos(idade)} e é do gênero {genero}.')\n",
        "print(f'Já pensou no que você fará no seu aniversário de {ano_soma} anos?')\n"
      ],
      "execution_count": null,
      "outputs": [
        {
          "output_type": "stream",
          "text": [
            "Digite seu nome: guilherme\n",
            "Informe sua idade 18\n",
            "Qual seu gênero ? masculino\n",
            "Olá, guilherme, você possui 18 anos e é do gênero masculino.\n",
            "Já pensou no que você fará no seu aniversário de 19 anos?\n"
          ],
          "name": "stdout"
        }
      ]
    },
    {
      "cell_type": "code",
      "metadata": {
        "colab": {
          "base_uri": "https://localhost:8080/"
        },
        "id": "o5vqIFsXVZnK",
        "outputId": "b9d7a31a-bb90-4498-9061-b4c60f70bc20"
      },
      "source": [
        "# Algumas formatações \n",
        "\n",
        "genero = \"Masculino\"\n",
        "\n",
        "print(\"Sem formatação:\", genero)\n",
        "print(\"Capitalize:\", genero.capitalize()) # .capitalize() -> deixa a primeira letra maiúscula\n",
        "print(\"Upper case:\", genero.upper()) \n",
        "print(\"Lower case:\", genero.lower()) \n",
        "\n",
        "if genero == \"masculino\":\n",
        "  print('esse não será lido')\n",
        "elif genero.lower() == \"masculino\":\n",
        "  print('esse sera lido')\n",
        "\n",
        " \n"
      ],
      "execution_count": null,
      "outputs": [
        {
          "output_type": "stream",
          "text": [
            "Sem formatação: Masculino\n",
            "Capitalize: Masculino\n",
            "Upper case: MASCULINO\n",
            "Lower case: masculino\n",
            "esse sera lido\n"
          ],
          "name": "stdout"
        }
      ]
    },
    {
      "cell_type": "code",
      "metadata": {
        "id": "-RA6P2v1Vo8g"
      },
      "source": [
        "idade = 20\n",
        "maior_idade = False\n",
        "\n",
        "print('Maior idade:', maior_idade, type(maior_idade))\n"
      ],
      "execution_count": null,
      "outputs": []
    },
    {
      "cell_type": "code",
      "metadata": {
        "id": "Sq_vW6ikVqIb"
      },
      "source": [
        "idade = 20\n",
        "maior_idade = idade >= 18\n",
        "\n",
        "print('Maior idade:', maior_idade, type(maior_idade))"
      ],
      "execution_count": null,
      "outputs": []
    },
    {
      "cell_type": "code",
      "metadata": {
        "colab": {
          "base_uri": "https://localhost:8080/"
        },
        "id": "LJ6BO6g3Vr-2",
        "outputId": "ab0951cb-c6aa-457d-859c-76cc0361db91"
      },
      "source": [
        "idade = 17\n",
        "altura = 202\n",
        "\n",
        "maior_idade = idade >= 18  #  will return true or false\n",
        "\n",
        "maior_que_dois_metros = altura >= 200\n",
        "\n",
        "maior_idade_e_maior_que_dois_metros = maior_idade and maior_que_dois_metros\n",
        "\n",
        "print('Maior idade:', maior_idade, type(maior_idade))\n",
        "print('Maior do que 200cm:', maior_que_dois_metros, type(maior_que_dois_metros))\n",
        "\n",
        "print()\n",
        "\n",
        "print('Maior idade e maior que dois metros:', maior_idade_e_maior_que_dois_metros, type(maior_idade_e_maior_que_dois_metros))"
      ],
      "execution_count": null,
      "outputs": [
        {
          "output_type": "stream",
          "text": [
            "Maior idade: False <class 'bool'>\n",
            "Maior do que 200cm: True <class 'bool'>\n",
            "\n",
            "Maior idade e maior que dois metros: False <class 'bool'>\n"
          ],
          "name": "stdout"
        }
      ]
    },
    {
      "cell_type": "code",
      "metadata": {
        "id": "aMO-HcadV2Ko"
      },
      "source": [
        "# Comparações \n",
        "\n",
        "print(\"1 > 1\", 1 > 1)\n",
        "print(\"1 < 1\", 1 < 1)\n",
        "print(\"1 == 1\", 1 == 1)\n",
        "print(\"1 != 1\", 1 != 1)\n",
        "print(\"1 <= 1\", 1 <= 1)\n",
        "print(\"1 >= 1\", 1 >= 1)\n"
      ],
      "execution_count": null,
      "outputs": []
    },
    {
      "cell_type": "code",
      "metadata": {
        "id": "ES8nb5VTV3-v"
      },
      "source": [
        " # Operadores: not\n",
        "\n",
        "\"\"\" \n",
        "(em outras linguagens é conhecido pelo símbolo '!')\n",
        "Operador que inverte um valor booleano.\n",
        "\"\"\"\n",
        "\n",
        "print(\"not True\", not True) # False\n",
        "print(\"not False\", not False) # True"
      ],
      "execution_count": null,
      "outputs": []
    },
    {
      "cell_type": "code",
      "metadata": {
        "id": "NhNHRZ7yV8Wb"
      },
      "source": [
        "idade = 15\n",
        "maiorIdade = idade >= 18\n",
        "\n",
        "menorIdade = maiorIdade\n",
        "\n",
        "print('Essa pessoa é menor de idade?', menorIdade)"
      ],
      "execution_count": null,
      "outputs": []
    },
    {
      "cell_type": "code",
      "metadata": {
        "id": "ylAUO1NmWDmQ"
      },
      "source": [
        "# Operador and\n",
        "\n",
        "\"\"\"\n",
        "Também conhecido em outras linguagens pelo símbolo '&&'.\n",
        "\"\"\" \n",
        "\n",
        "print('True and True', True and True) # True\n",
        "print('True and False', True and False) # False\n",
        "print('False and False', False and False) # False\n",
        "print('False and True', False and True) # False "
      ],
      "execution_count": null,
      "outputs": []
    },
    {
      "cell_type": "code",
      "metadata": {
        "id": "Zwl2HjQ6WFj_"
      },
      "source": [
        "# Valores Boolean  os\n",
        "\n",
        "print(True)\n",
        "print(False)\n"
      ],
      "execution_count": null,
      "outputs": []
    },
    {
      "cell_type": "code",
      "metadata": {
        "id": "xyNdgKfoWMY2"
      },
      "source": [
        "# operador or\n",
        "\n",
        "\"\"\"\n",
        "Em outras linguagens conhecido pelo símbolo \"||\".\n",
        "\"\"\"\n",
        "\n",
        "print(\"True or True\", True or True) # True\n",
        "print(\"True or False\", True or False) # True\n",
        "print(\"False or False\", False or False) # False\n",
        "print(\"False or True\", False or True) # True\n",
        "\n"
      ],
      "execution_count": null,
      "outputs": []
    },
    {
      "cell_type": "code",
      "metadata": {
        "id": "3kGQ38l2WO3-"
      },
      "source": [
        "print('1 == 1 ', 1 == 1)\n",
        "print(\"1.0 == 1\", 1.0 == 1)\n",
        "# As barras invertidas '\\' servem para escapar a string e não considerar como código\n",
        "print(\"\\\"1\\\" == 1 \", \"1\" == 1)\n",
        "print('\"1\" == 1: ', \"1\" == 1)"
      ],
      "execution_count": null,
      "outputs": []
    },
    {
      "cell_type": "code",
      "metadata": {
        "colab": {
          "base_uri": "https://localhost:8080/"
        },
        "id": "eptCD6lHioQ5",
        "outputId": "cba8a68a-9a47-424d-d9e9-e113171a0532"
      },
      "source": [
        "# Declarações de condição: if, elif (else if), else\n",
        "\n",
        "# Primeira: if (se), ou seja, se algo for True \n",
        "\n",
        "# Indentation block\n",
        "\n",
        "# Bloco indentado\n",
        "\n",
        "if True:\n",
        "  print(\"Esse if será lido\")\n",
        "\n",
        "if False:\n",
        "  print(\"Esse if não será lido\")\n",
        "\n",
        "print(\"Apenas o primeiro if foi lido\")\n",
        "\n"
      ],
      "execution_count": null,
      "outputs": [
        {
          "output_type": "stream",
          "text": [
            "Esse if será lido\n",
            "Apenas o primeiro if foi lido\n"
          ],
          "name": "stdout"
        }
      ]
    },
    {
      "cell_type": "code",
      "metadata": {
        "colab": {
          "base_uri": "https://localhost:8080/"
        },
        "id": "0VVZyv_ljTKL",
        "outputId": "1888a39c-dd75-48df-9b72-e50673bb9e75"
      },
      "source": [
        "# Declarações de condição: if, elif (else if), else\n",
        "\n",
        "# Segunda: else (caso contrário) e ele sempre vem depois de um if ou de um elif\n",
        "# Por tanto, ele sempre possui uma condição que foi checada antes dele\n",
        "# O else é ativado caso a(s) condições anteriores foram False\n",
        "\n",
        "if False:\n",
        "  print(\"Esse if não será lido, pois a condição dele é False\")\n",
        "else:\n",
        "  print(\"esse será lido, pois as condições anteriores são False.\")\n",
        "  print(\"No caso, tivemos apenas uma condição\")\n",
        "  "
      ],
      "execution_count": null,
      "outputs": [
        {
          "output_type": "stream",
          "text": [
            "esse será lido, pois as condições anteriores são False.\n",
            "No caso, tivemos apenas uma condição\n"
          ],
          "name": "stdout"
        }
      ]
    },
    {
      "cell_type": "code",
      "metadata": {
        "colab": {
          "base_uri": "https://localhost:8080/"
        },
        "id": "42rI2vtbkP24",
        "outputId": "7752c874-820c-4bac-d16c-dc8d0baf61ee"
      },
      "source": [
        "# Declaração de condição: if, elif (else if), else\n",
        "\n",
        "# Terceira: elif (em outras linguagens, também é conhecido como else if)(caso contrário, se), ou seja.\n",
        "# Quando todas as condições anteriores foram False, mas a sua condição é true.\n",
        "# Um elif precisa OBRIGATORIAMENTE estar depois de um IF ou de outro ELIF\n",
        "\n",
        "if False: \n",
        "  print(\"1 - Esse if não será lido\")\n",
        "elif True:\n",
        "  print(\"2 - Esse elif será lido\")\n",
        "\n",
        "print()\n",
        "\n",
        "if False:\n",
        "  print(\"1 -esse if não será lido\")\n",
        "elif False:\n",
        "  print(\"2 - Esse elif não séra lido\")\n",
        "elif True:\n",
        "  print(\"3 - esse elif será lido\")\n",
        "\n",
        "print()\n",
        "\n",
        "if False:\n",
        "  print(\"1 - Esse if não será lido\")\n",
        "elif False:\n",
        "  print(\"2 - esse elif não será lido\")\n",
        "elif True:\n",
        "  print(\"3 - esse elif será lido\")\n",
        "else:\n",
        "  print(\"4 - Esse else será lido\")"
      ],
      "execution_count": null,
      "outputs": [
        {
          "output_type": "stream",
          "text": [
            "2 - Esse elif será lido\n",
            "\n",
            "3 - esse elif será lido\n",
            "\n",
            "3 - esse elif será lido\n"
          ],
          "name": "stdout"
        }
      ]
    },
    {
      "cell_type": "code",
      "metadata": {
        "colab": {
          "base_uri": "https://localhost:8080/"
        },
        "id": "BffwndmPxCRN",
        "outputId": "9446f196-13dd-4c39-d7a6-7cf8218983da"
      },
      "source": [
        "num1 = 1\n",
        "num2 = 2\n",
        "num3 = 3\n",
        "num4 = 2\n",
        "\n",
        "if num1 > num2:\n",
        "  print('entrou em if')\n",
        "elif num1 >= num3:\n",
        "  print('entrou em elif (1)')\n",
        "elif num4 > num3:\n",
        "  print('entrou em elif (2)')\n",
        "elif num1 > num1:\n",
        "  print('entrou em elif (3)')\n",
        "elif num3 > num2:\n",
        "  print('entrou em elif (4)')\n",
        "\n"
      ],
      "execution_count": null,
      "outputs": [
        {
          "output_type": "stream",
          "text": [
            "entrou em elif (4)\n"
          ],
          "name": "stdout"
        }
      ]
    },
    {
      "cell_type": "code",
      "metadata": {
        "colab": {
          "base_uri": "https://localhost:8080/"
        },
        "id": "Oiha9jXCr726",
        "outputId": "512c1a83-f298-4609-b1b8-eb55b55cf34b"
      },
      "source": [
        "idade = 20\n",
        "maior_idade = idade >= 18\n",
        "\n",
        "if maior_idade: \n",
        "  print(\"Essa pessoa é MAIOR de idade.\")\n",
        "else: \n",
        "  print(\"Essa pessoa é MENOR de idade.\")"
      ],
      "execution_count": 4,
      "outputs": [
        {
          "output_type": "stream",
          "text": [
            "Essa pessoa é MAIOR de idade.\n"
          ],
          "name": "stdout"
        }
      ]
    },
    {
      "cell_type": "code",
      "metadata": {
        "colab": {
          "base_uri": "https://localhost:8080/"
        },
        "id": "Z9ezWOP9sJSV",
        "outputId": "979cddd7-093a-42ec-d164-7bd965afd4d6"
      },
      "source": [
        "letra = input(\"Digite uma letra: \")\n",
        "\n",
        "if letra == \"A\":\n",
        "  print(\"A de Amor\")\n",
        "elif letra == \"B\":\n",
        "  print(\"B de Baixinho\")\n",
        "elif letra == \"C\":\n",
        "  print(\"C de Coração\")\n",
        "else:\n",
        "  print(\"Não sei opinar\")\n",
        "  \n"
      ],
      "execution_count": 7,
      "outputs": [
        {
          "output_type": "stream",
          "text": [
            "Digite uma letra: B\n",
            "B de Baixinho\n"
          ],
          "name": "stdout"
        }
      ]
    },
    {
      "cell_type": "code",
      "metadata": {
        "colab": {
          "base_uri": "https://localhost:8080/"
        },
        "id": "debra_ESs3IT",
        "outputId": "1d5ef146-d226-4651-9485-8019dcbafa6f"
      },
      "source": [
        "if True:\n",
        "  print(\"Esse if será lido\")\n",
        "\n",
        "\n",
        "variavel = True\n",
        "if variavel:\n",
        "  print(\"esse if será lido\")\n",
        "\n",
        "variavel2 = 1 == 1\n",
        "if variavel2:\n",
        "  print(\"Esse if será lido\")\n",
        "\n",
        "if 1 == 1:\n",
        "  print(\"Esse if será lido\")"
      ],
      "execution_count": 11,
      "outputs": [
        {
          "output_type": "stream",
          "text": [
            "Esse if será lido\n",
            "esse if será lido\n",
            "Esse if será lido\n",
            "Esse if será lido\n"
          ],
          "name": "stdout"
        }
      ]
    },
    {
      "cell_type": "code",
      "metadata": {
        "colab": {
          "base_uri": "https://localhost:8080/"
        },
        "id": "xb9QBxKwtOzi",
        "outputId": "aaccd3ab-6ead-4537-c693-32006940bc7d"
      },
      "source": [
        "idade = 15\n",
        "maior_idade = idade >= 18\n",
        "\n",
        "if maior_idade:\n",
        "  print(\"Maior\")\n",
        "else:\n",
        "  print(\"Menor\")"
      ],
      "execution_count": 12,
      "outputs": [
        {
          "output_type": "stream",
          "text": [
            "Menor\n"
          ],
          "name": "stdout"
        }
      ]
    },
    {
      "cell_type": "code",
      "metadata": {
        "colab": {
          "base_uri": "https://localhost:8080/"
        },
        "id": "wqDMHG4Ctbsa",
        "outputId": "ba0fdfd1-934b-4a66-9d27-cfafc526e744"
      },
      "source": [
        "idade = 40\n",
        "faixa_etaria1 = idade >=0 and idade < 15\n",
        "faixa_etaria2 = idade >=15 and idade < 40\n",
        "faixa_etaria3 = idade >= 40 \n",
        "\n",
        "print(\"Idade:\", idade)\n",
        "print(\"Faixa Etária 1:\", faixa_etaria1)\n",
        "print(\"Faixa Etária 2:\", faixa_etaria2)\n",
        "print(\"Faixa Etária 3:\", faixa_etaria3)\n",
        "\n",
        "print()\n",
        "\n",
        "if faixa_etaria3:\n",
        "  print(\"Essa pessoa está na faixa etária 3\")\n",
        "elif faixa_etaria2:\n",
        "  print(\"Essa pessoa está na faixa etária 2\")\n",
        "elif faixa_etaria1:\n",
        "  print(\"Essa pessoa está na faixa etária 1\")\n",
        "else:\n",
        "  print(\"Informe uma idade correta!:\")\n",
        "  \n",
        "\n"
      ],
      "execution_count": 17,
      "outputs": [
        {
          "output_type": "stream",
          "text": [
            "Idade: 40\n",
            "Faixa Etária 1: False\n",
            "Faixa Etária 2: False\n",
            "Faixa Etária 3: True\n",
            "\n",
            "Essa pessoa está na faixa etária 3\n"
          ],
          "name": "stdout"
        }
      ]
    },
    {
      "cell_type": "code",
      "metadata": {
        "colab": {
          "base_uri": "https://localhost:8080/"
        },
        "id": "putI8Gq_uH3X",
        "outputId": "05e2c0d0-71c4-463d-de9c-7d110d4b986b"
      },
      "source": [
        "# Funções \n",
        "\n",
        "\"\"\"\n",
        "- Para criar uma função, usamos a declração 'def', de parênteses e\n",
        " criando um bloco com o símbolo ':'\n",
        " Todo o conteúdo dentro da função, terá um nível de indentação, como fizemos no if, \n",
        " elif e else\n",
        "\n",
        "- É importante entender que a função possui dois estágios: DECLRAÇÃO E  \n",
        " EXECUÇÃO.\n",
        "\n",
        " - A declaração é quando falamos o que a função irá fazer ao ser EXECUTADA\n",
        "\n",
        "- A execução pdemos fazer quantas vezes quisermos (daí vem a mágia das funções\n",
        ", o reaproveitamento de lógoca.)\n",
        "\"\"\"\n",
        "\n",
        "# Declaração da função 'exibir_nome()':\n",
        "def exibir_nome():\n",
        "  print(\"Guilherme Colares\")\n",
        "\n",
        "# Execução da função 'exibir_nome()':\n",
        "exibir_nome()\n"
      ],
      "execution_count": 19,
      "outputs": [
        {
          "output_type": "stream",
          "text": [
            "Guilherme Colares\n"
          ],
          "name": "stdout"
        }
      ]
    },
    {
      "cell_type": "code",
      "metadata": {
        "colab": {
          "base_uri": "https://localhost:8080/"
        },
        "id": "i-diqJekvgfp",
        "outputId": "656ebcc0-8f15-4c96-d380-f237847a66f4"
      },
      "source": [
        "def exibir_numero():\n",
        "  print(1)\n",
        "\n",
        "exibir_numero()"
      ],
      "execution_count": 20,
      "outputs": [
        {
          "output_type": "stream",
          "text": [
            "1\n"
          ],
          "name": "stdout"
        }
      ]
    },
    {
      "cell_type": "code",
      "metadata": {
        "colab": {
          "base_uri": "https://localhost:8080/",
          "height": 757
        },
        "id": "LHDEK9sAwNpw",
        "outputId": "6641a428-b3f2-40a2-b1c9-675a74bc391e"
      },
      "source": [
        "# Declaração\n",
        "\n",
        "def exibir_faixa_etaria(): \n",
        "  idade = int(input(\"Digite a idade: \"))\n",
        "  faixa_etaria1 = idade >= 0\n",
        "  faixa_etaria2 = idade >= 18\n",
        "  faixa_etaria3 = idade >= 40\n",
        "\n",
        "  print(\"Idade: \", idade)\n",
        "\n",
        "  if faixa_etaria3:\n",
        "    print(\"Essa pessoa está na faixa etária 3\")\n",
        "  elif faixa_etaria2:\n",
        "    print(\"Essa pessoa está na faixa etária 2\")\n",
        "  elif faixa_etaria1:\n",
        "    print(\"Essa pessoa está na faixa etária 1\")\n",
        "  else:\n",
        "    print(\"Insira uma idade correta\")\n",
        "    exibir_faixa_etaria()\n",
        "\n",
        "# Execução\n",
        "exibir_faixa_etaria()"
      ],
      "execution_count": 29,
      "outputs": [
        {
          "output_type": "stream",
          "text": [
            "Digite a idade: -2\n",
            "Idade:  -2\n",
            "Insira uma idade correta\n",
            "Digite a idade: -2\n",
            "Idade:  -2\n",
            "Insira uma idade correta\n",
            "Digite a idade: -2\n",
            "Idade:  -2\n",
            "Insira uma idade correta\n",
            "Digite a idade: -2\n",
            "Idade:  -2\n",
            "Insira uma idade correta\n"
          ],
          "name": "stdout"
        },
        {
          "output_type": "error",
          "ename": "KeyboardInterrupt",
          "evalue": "ignored",
          "traceback": [
            "\u001b[0;31m---------------------------------------------------------------------------\u001b[0m",
            "\u001b[0;31mKeyboardInterrupt\u001b[0m                         Traceback (most recent call last)",
            "\u001b[0;32m/usr/local/lib/python3.7/dist-packages/ipykernel/kernelbase.py\u001b[0m in \u001b[0;36m_input_request\u001b[0;34m(self, prompt, ident, parent, password)\u001b[0m\n\u001b[1;32m    728\u001b[0m             \u001b[0;32mtry\u001b[0m\u001b[0;34m:\u001b[0m\u001b[0;34m\u001b[0m\u001b[0;34m\u001b[0m\u001b[0m\n\u001b[0;32m--> 729\u001b[0;31m                 \u001b[0mident\u001b[0m\u001b[0;34m,\u001b[0m \u001b[0mreply\u001b[0m \u001b[0;34m=\u001b[0m \u001b[0mself\u001b[0m\u001b[0;34m.\u001b[0m\u001b[0msession\u001b[0m\u001b[0;34m.\u001b[0m\u001b[0mrecv\u001b[0m\u001b[0;34m(\u001b[0m\u001b[0mself\u001b[0m\u001b[0;34m.\u001b[0m\u001b[0mstdin_socket\u001b[0m\u001b[0;34m,\u001b[0m \u001b[0;36m0\u001b[0m\u001b[0;34m)\u001b[0m\u001b[0;34m\u001b[0m\u001b[0;34m\u001b[0m\u001b[0m\n\u001b[0m\u001b[1;32m    730\u001b[0m             \u001b[0;32mexcept\u001b[0m \u001b[0mException\u001b[0m\u001b[0;34m:\u001b[0m\u001b[0;34m\u001b[0m\u001b[0;34m\u001b[0m\u001b[0m\n",
            "\u001b[0;32m/usr/local/lib/python3.7/dist-packages/jupyter_client/session.py\u001b[0m in \u001b[0;36mrecv\u001b[0;34m(self, socket, mode, content, copy)\u001b[0m\n\u001b[1;32m    802\u001b[0m         \u001b[0;32mtry\u001b[0m\u001b[0;34m:\u001b[0m\u001b[0;34m\u001b[0m\u001b[0;34m\u001b[0m\u001b[0m\n\u001b[0;32m--> 803\u001b[0;31m             \u001b[0mmsg_list\u001b[0m \u001b[0;34m=\u001b[0m \u001b[0msocket\u001b[0m\u001b[0;34m.\u001b[0m\u001b[0mrecv_multipart\u001b[0m\u001b[0;34m(\u001b[0m\u001b[0mmode\u001b[0m\u001b[0;34m,\u001b[0m \u001b[0mcopy\u001b[0m\u001b[0;34m=\u001b[0m\u001b[0mcopy\u001b[0m\u001b[0;34m)\u001b[0m\u001b[0;34m\u001b[0m\u001b[0;34m\u001b[0m\u001b[0m\n\u001b[0m\u001b[1;32m    804\u001b[0m         \u001b[0;32mexcept\u001b[0m \u001b[0mzmq\u001b[0m\u001b[0;34m.\u001b[0m\u001b[0mZMQError\u001b[0m \u001b[0;32mas\u001b[0m \u001b[0me\u001b[0m\u001b[0;34m:\u001b[0m\u001b[0;34m\u001b[0m\u001b[0;34m\u001b[0m\u001b[0m\n",
            "\u001b[0;32m/usr/local/lib/python3.7/dist-packages/zmq/sugar/socket.py\u001b[0m in \u001b[0;36mrecv_multipart\u001b[0;34m(self, flags, copy, track)\u001b[0m\n\u001b[1;32m    582\u001b[0m         \"\"\"\n\u001b[0;32m--> 583\u001b[0;31m         \u001b[0mparts\u001b[0m \u001b[0;34m=\u001b[0m \u001b[0;34m[\u001b[0m\u001b[0mself\u001b[0m\u001b[0;34m.\u001b[0m\u001b[0mrecv\u001b[0m\u001b[0;34m(\u001b[0m\u001b[0mflags\u001b[0m\u001b[0;34m,\u001b[0m \u001b[0mcopy\u001b[0m\u001b[0;34m=\u001b[0m\u001b[0mcopy\u001b[0m\u001b[0;34m,\u001b[0m \u001b[0mtrack\u001b[0m\u001b[0;34m=\u001b[0m\u001b[0mtrack\u001b[0m\u001b[0;34m)\u001b[0m\u001b[0;34m]\u001b[0m\u001b[0;34m\u001b[0m\u001b[0;34m\u001b[0m\u001b[0m\n\u001b[0m\u001b[1;32m    584\u001b[0m         \u001b[0;31m# have first part already, only loop while more to receive\u001b[0m\u001b[0;34m\u001b[0m\u001b[0;34m\u001b[0m\u001b[0;34m\u001b[0m\u001b[0m\n",
            "\u001b[0;32mzmq/backend/cython/socket.pyx\u001b[0m in \u001b[0;36mzmq.backend.cython.socket.Socket.recv\u001b[0;34m()\u001b[0m\n",
            "\u001b[0;32mzmq/backend/cython/socket.pyx\u001b[0m in \u001b[0;36mzmq.backend.cython.socket.Socket.recv\u001b[0;34m()\u001b[0m\n",
            "\u001b[0;32mzmq/backend/cython/socket.pyx\u001b[0m in \u001b[0;36mzmq.backend.cython.socket._recv_copy\u001b[0;34m()\u001b[0m\n",
            "\u001b[0;32m/usr/local/lib/python3.7/dist-packages/zmq/backend/cython/checkrc.pxd\u001b[0m in \u001b[0;36mzmq.backend.cython.checkrc._check_rc\u001b[0;34m()\u001b[0m\n",
            "\u001b[0;31mKeyboardInterrupt\u001b[0m: ",
            "\nDuring handling of the above exception, another exception occurred:\n",
            "\u001b[0;31mKeyboardInterrupt\u001b[0m                         Traceback (most recent call last)",
            "\u001b[0;32m<ipython-input-29-0fc216a226d5>\u001b[0m in \u001b[0;36m<module>\u001b[0;34m()\u001b[0m\n\u001b[1;32m     19\u001b[0m     \u001b[0mexibir_faixa_etaria\u001b[0m\u001b[0;34m(\u001b[0m\u001b[0;34m)\u001b[0m\u001b[0;34m\u001b[0m\u001b[0;34m\u001b[0m\u001b[0m\n\u001b[1;32m     20\u001b[0m \u001b[0;34m\u001b[0m\u001b[0m\n\u001b[0;32m---> 21\u001b[0;31m \u001b[0mexibir_faixa_etaria\u001b[0m\u001b[0;34m(\u001b[0m\u001b[0;34m)\u001b[0m\u001b[0;34m\u001b[0m\u001b[0;34m\u001b[0m\u001b[0m\n\u001b[0m",
            "\u001b[0;32m<ipython-input-29-0fc216a226d5>\u001b[0m in \u001b[0;36mexibir_faixa_etaria\u001b[0;34m()\u001b[0m\n\u001b[1;32m     17\u001b[0m   \u001b[0;32melse\u001b[0m\u001b[0;34m:\u001b[0m\u001b[0;34m\u001b[0m\u001b[0;34m\u001b[0m\u001b[0m\n\u001b[1;32m     18\u001b[0m     \u001b[0mprint\u001b[0m\u001b[0;34m(\u001b[0m\u001b[0;34m\"Insira uma idade correta\"\u001b[0m\u001b[0;34m)\u001b[0m\u001b[0;34m\u001b[0m\u001b[0;34m\u001b[0m\u001b[0m\n\u001b[0;32m---> 19\u001b[0;31m     \u001b[0mexibir_faixa_etaria\u001b[0m\u001b[0;34m(\u001b[0m\u001b[0;34m)\u001b[0m\u001b[0;34m\u001b[0m\u001b[0;34m\u001b[0m\u001b[0m\n\u001b[0m\u001b[1;32m     20\u001b[0m \u001b[0;34m\u001b[0m\u001b[0m\n\u001b[1;32m     21\u001b[0m \u001b[0mexibir_faixa_etaria\u001b[0m\u001b[0;34m(\u001b[0m\u001b[0;34m)\u001b[0m\u001b[0;34m\u001b[0m\u001b[0;34m\u001b[0m\u001b[0m\n",
            "\u001b[0;32m<ipython-input-29-0fc216a226d5>\u001b[0m in \u001b[0;36mexibir_faixa_etaria\u001b[0;34m()\u001b[0m\n\u001b[1;32m     17\u001b[0m   \u001b[0;32melse\u001b[0m\u001b[0;34m:\u001b[0m\u001b[0;34m\u001b[0m\u001b[0;34m\u001b[0m\u001b[0m\n\u001b[1;32m     18\u001b[0m     \u001b[0mprint\u001b[0m\u001b[0;34m(\u001b[0m\u001b[0;34m\"Insira uma idade correta\"\u001b[0m\u001b[0;34m)\u001b[0m\u001b[0;34m\u001b[0m\u001b[0;34m\u001b[0m\u001b[0m\n\u001b[0;32m---> 19\u001b[0;31m     \u001b[0mexibir_faixa_etaria\u001b[0m\u001b[0;34m(\u001b[0m\u001b[0;34m)\u001b[0m\u001b[0;34m\u001b[0m\u001b[0;34m\u001b[0m\u001b[0m\n\u001b[0m\u001b[1;32m     20\u001b[0m \u001b[0;34m\u001b[0m\u001b[0m\n\u001b[1;32m     21\u001b[0m \u001b[0mexibir_faixa_etaria\u001b[0m\u001b[0;34m(\u001b[0m\u001b[0;34m)\u001b[0m\u001b[0;34m\u001b[0m\u001b[0;34m\u001b[0m\u001b[0m\n",
            "\u001b[0;32m<ipython-input-29-0fc216a226d5>\u001b[0m in \u001b[0;36mexibir_faixa_etaria\u001b[0;34m()\u001b[0m\n\u001b[1;32m     17\u001b[0m   \u001b[0;32melse\u001b[0m\u001b[0;34m:\u001b[0m\u001b[0;34m\u001b[0m\u001b[0;34m\u001b[0m\u001b[0m\n\u001b[1;32m     18\u001b[0m     \u001b[0mprint\u001b[0m\u001b[0;34m(\u001b[0m\u001b[0;34m\"Insira uma idade correta\"\u001b[0m\u001b[0;34m)\u001b[0m\u001b[0;34m\u001b[0m\u001b[0;34m\u001b[0m\u001b[0m\n\u001b[0;32m---> 19\u001b[0;31m     \u001b[0mexibir_faixa_etaria\u001b[0m\u001b[0;34m(\u001b[0m\u001b[0;34m)\u001b[0m\u001b[0;34m\u001b[0m\u001b[0;34m\u001b[0m\u001b[0m\n\u001b[0m\u001b[1;32m     20\u001b[0m \u001b[0;34m\u001b[0m\u001b[0m\n\u001b[1;32m     21\u001b[0m \u001b[0mexibir_faixa_etaria\u001b[0m\u001b[0;34m(\u001b[0m\u001b[0;34m)\u001b[0m\u001b[0;34m\u001b[0m\u001b[0;34m\u001b[0m\u001b[0m\n",
            "\u001b[0;32m<ipython-input-29-0fc216a226d5>\u001b[0m in \u001b[0;36mexibir_faixa_etaria\u001b[0;34m()\u001b[0m\n\u001b[1;32m     17\u001b[0m   \u001b[0;32melse\u001b[0m\u001b[0;34m:\u001b[0m\u001b[0;34m\u001b[0m\u001b[0;34m\u001b[0m\u001b[0m\n\u001b[1;32m     18\u001b[0m     \u001b[0mprint\u001b[0m\u001b[0;34m(\u001b[0m\u001b[0;34m\"Insira uma idade correta\"\u001b[0m\u001b[0;34m)\u001b[0m\u001b[0;34m\u001b[0m\u001b[0;34m\u001b[0m\u001b[0m\n\u001b[0;32m---> 19\u001b[0;31m     \u001b[0mexibir_faixa_etaria\u001b[0m\u001b[0;34m(\u001b[0m\u001b[0;34m)\u001b[0m\u001b[0;34m\u001b[0m\u001b[0;34m\u001b[0m\u001b[0m\n\u001b[0m\u001b[1;32m     20\u001b[0m \u001b[0;34m\u001b[0m\u001b[0m\n\u001b[1;32m     21\u001b[0m \u001b[0mexibir_faixa_etaria\u001b[0m\u001b[0;34m(\u001b[0m\u001b[0;34m)\u001b[0m\u001b[0;34m\u001b[0m\u001b[0;34m\u001b[0m\u001b[0m\n",
            "\u001b[0;32m<ipython-input-29-0fc216a226d5>\u001b[0m in \u001b[0;36mexibir_faixa_etaria\u001b[0;34m()\u001b[0m\n\u001b[1;32m      2\u001b[0m \u001b[0;34m\u001b[0m\u001b[0m\n\u001b[1;32m      3\u001b[0m \u001b[0;32mdef\u001b[0m \u001b[0mexibir_faixa_etaria\u001b[0m\u001b[0;34m(\u001b[0m\u001b[0;34m)\u001b[0m\u001b[0;34m:\u001b[0m\u001b[0;34m\u001b[0m\u001b[0;34m\u001b[0m\u001b[0m\n\u001b[0;32m----> 4\u001b[0;31m   \u001b[0midade\u001b[0m \u001b[0;34m=\u001b[0m \u001b[0mint\u001b[0m\u001b[0;34m(\u001b[0m\u001b[0minput\u001b[0m\u001b[0;34m(\u001b[0m\u001b[0;34m\"Digite a idade: \"\u001b[0m\u001b[0;34m)\u001b[0m\u001b[0;34m)\u001b[0m\u001b[0;34m\u001b[0m\u001b[0;34m\u001b[0m\u001b[0m\n\u001b[0m\u001b[1;32m      5\u001b[0m   \u001b[0mfaixa_etaria1\u001b[0m \u001b[0;34m=\u001b[0m \u001b[0midade\u001b[0m \u001b[0;34m>=\u001b[0m \u001b[0;36m0\u001b[0m\u001b[0;34m\u001b[0m\u001b[0;34m\u001b[0m\u001b[0m\n\u001b[1;32m      6\u001b[0m   \u001b[0mfaixa_etaria2\u001b[0m \u001b[0;34m=\u001b[0m \u001b[0midade\u001b[0m \u001b[0;34m>=\u001b[0m \u001b[0;36m18\u001b[0m\u001b[0;34m\u001b[0m\u001b[0;34m\u001b[0m\u001b[0m\n",
            "\u001b[0;32m/usr/local/lib/python3.7/dist-packages/ipykernel/kernelbase.py\u001b[0m in \u001b[0;36mraw_input\u001b[0;34m(self, prompt)\u001b[0m\n\u001b[1;32m    702\u001b[0m             \u001b[0mself\u001b[0m\u001b[0;34m.\u001b[0m\u001b[0m_parent_ident\u001b[0m\u001b[0;34m,\u001b[0m\u001b[0;34m\u001b[0m\u001b[0;34m\u001b[0m\u001b[0m\n\u001b[1;32m    703\u001b[0m             \u001b[0mself\u001b[0m\u001b[0;34m.\u001b[0m\u001b[0m_parent_header\u001b[0m\u001b[0;34m,\u001b[0m\u001b[0;34m\u001b[0m\u001b[0;34m\u001b[0m\u001b[0m\n\u001b[0;32m--> 704\u001b[0;31m             \u001b[0mpassword\u001b[0m\u001b[0;34m=\u001b[0m\u001b[0;32mFalse\u001b[0m\u001b[0;34m,\u001b[0m\u001b[0;34m\u001b[0m\u001b[0;34m\u001b[0m\u001b[0m\n\u001b[0m\u001b[1;32m    705\u001b[0m         )\n\u001b[1;32m    706\u001b[0m \u001b[0;34m\u001b[0m\u001b[0m\n",
            "\u001b[0;32m/usr/local/lib/python3.7/dist-packages/ipykernel/kernelbase.py\u001b[0m in \u001b[0;36m_input_request\u001b[0;34m(self, prompt, ident, parent, password)\u001b[0m\n\u001b[1;32m    732\u001b[0m             \u001b[0;32mexcept\u001b[0m \u001b[0mKeyboardInterrupt\u001b[0m\u001b[0;34m:\u001b[0m\u001b[0;34m\u001b[0m\u001b[0;34m\u001b[0m\u001b[0m\n\u001b[1;32m    733\u001b[0m                 \u001b[0;31m# re-raise KeyboardInterrupt, to truncate traceback\u001b[0m\u001b[0;34m\u001b[0m\u001b[0;34m\u001b[0m\u001b[0;34m\u001b[0m\u001b[0m\n\u001b[0;32m--> 734\u001b[0;31m                 \u001b[0;32mraise\u001b[0m \u001b[0mKeyboardInterrupt\u001b[0m\u001b[0;34m\u001b[0m\u001b[0;34m\u001b[0m\u001b[0m\n\u001b[0m\u001b[1;32m    735\u001b[0m             \u001b[0;32melse\u001b[0m\u001b[0;34m:\u001b[0m\u001b[0;34m\u001b[0m\u001b[0;34m\u001b[0m\u001b[0m\n\u001b[1;32m    736\u001b[0m                 \u001b[0;32mbreak\u001b[0m\u001b[0;34m\u001b[0m\u001b[0;34m\u001b[0m\u001b[0m\n",
            "\u001b[0;31mKeyboardInterrupt\u001b[0m: "
          ]
        }
      ]
    },
    {
      "cell_type": "code",
      "metadata": {
        "colab": {
          "base_uri": "https://localhost:8080/"
        },
        "id": "XLTuxGM9wk4w",
        "outputId": "c2d61c50-10fe-43ba-ed5e-2fb16b405eb0"
      },
      "source": [
        "# Declaração\n",
        "\n",
        "# 'idade' é o parâmtro necessário para que a função 'exibir_faixa_etaria()' execute.\n",
        "def exibir_faixa_etaria(idade):\n",
        "  faixa_etaria1 = idade >= 0\n",
        "  faixa_etaria2 = idade >= 18\n",
        "  faixa_etaria3 = idade >= 40\n",
        "\n",
        "  print(\"Idade:\", idade)\n",
        "  if faixa_etaria3:\n",
        "      print(\"Essa pessoa está na faixa etária 3\")\n",
        "  elif faixa_etaria2:\n",
        "      print(\"Essa pessoa está na faixa etária 2\")\n",
        "  elif faixa_etaria1:\n",
        "      print(\"Essa pessoa está na faixa etária 1\")\n",
        "  else:\n",
        "      print(\"Informe uma idade correta!\")\n",
        "\n",
        "# Execução \n",
        "  \"\"\"\n",
        "   O valor '50' é um argumento da função 'exibir_faixa_etaria'.\n",
        "   Esse valor entrará para a função\n",
        "   # como o parâmetro 'idade'\n",
        "  \"\"\"\n",
        "exibir_faixa_etaria(50)\n",
        "exibir_faixa_etaria(23)\n",
        "exibir_faixa_etaria(9)\n",
        "exibir_faixa_etaria(-18)"
      ],
      "execution_count": 35,
      "outputs": [
        {
          "output_type": "stream",
          "text": [
            "Idade: 50\n",
            "Essa pessoa está na faixa etária 3\n",
            "Idade: 23\n",
            "Essa pessoa está na faixa etária 2\n",
            "Idade: 9\n",
            "Essa pessoa está na faixa etária 1\n",
            "Idade: -18\n",
            "Informe uma idade correta!\n"
          ],
          "name": "stdout"
        }
      ]
    }
  ]
}