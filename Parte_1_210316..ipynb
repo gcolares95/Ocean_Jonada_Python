{
  "nbformat": 4,
  "nbformat_minor": 0,
  "metadata": {
    "colab": {
      "name": "Parte_1.ipynb",
      "provenance": [],
      "collapsed_sections": [],
      "authorship_tag": "ABX9TyPI6umvU+F3mZq0dlMKqsKK",
      "include_colab_link": true
    },
    "kernelspec": {
      "name": "python3",
      "display_name": "Python 3"
    }
  },
  "cells": [
    {
      "cell_type": "markdown",
      "metadata": {
        "id": "view-in-github",
        "colab_type": "text"
      },
      "source": [
        "<a href=\"https://colab.research.google.com/github/gcolares95/Ocean_Jonada_Python/blob/main/Parte_1_210316..ipynb\" target=\"_parent\"><img src=\"https://colab.research.google.com/assets/colab-badge.svg\" alt=\"Open In Colab\"/></a>"
      ]
    },
    {
      "cell_type": "markdown",
      "metadata": {
        "id": "9De4HtbcSdTX"
      },
      "source": [
        "  # Conceitos básicos\n",
        "  \n",
        "\n"
      ]
    },
    {
      "cell_type": "code",
      "metadata": {
        "id": "qf5Me1G98VkL",
        "colab": {
          "base_uri": "https://localhost:8080/"
        },
        "outputId": "44fabc0c-b742-42ec-874c-5355201380c7"
      },
      "source": [
        "# Hello world\n",
        "print('Hello world')\n",
        "print(1.5, \"É um valor do tipo Float\")\n",
        "print(1, \"É um valor do tipo Inteiro\") \n",
        "print('\"Guilherme e Julia\" são uma string')  "
      ],
      "execution_count": 4,
      "outputs": [
        {
          "output_type": "stream",
          "text": [
            "Hello world\n",
            "1.5 É um valor do tipo Float\n",
            "1 É um valor do tipo Inteiro\n",
            "\"Guilherme e Julia\" são uma String\n"
          ],
          "name": "stdout"
        }
      ]
    },
    {
      "cell_type": "code",
      "metadata": {
        "colab": {
          "base_uri": "https://localhost:8080/"
        },
        "id": "9l08Pf7o-BjS",
        "outputId": "c649069a-2bee-4fa6-a34b-c4292ccba0c4"
      },
      "source": [
        "nome = \"Guilherme\" #  string obrigatório aspas duplas/simples\n",
        "sobrenome = \"Colares\"\n",
        "numero = 18 # declara essa informação e guarda na memória\n",
        "\n",
        "# Depois, acessamos essa informação e fazemos algo com ela\n",
        "# no caso, usamos print() para exibi-la no console\n",
        "\n",
        "print(nome)\n",
        "print(sobrenome)\n",
        "print(numero + 5)\n",
        "\n",
        "numero = 5.5 # Variável numero passa a ter outro valor agora, no caso (5.5)\n",
        "print(numero)"
      ],
      "execution_count": 5,
      "outputs": [
        {
          "output_type": "stream",
          "text": [
            "Guilherme\n",
            "Colares\n",
            "23\n",
            "5.5\n"
          ],
          "name": "stdout"
        }
      ]
    },
    {
      "cell_type": "code",
      "metadata": {
        "colab": {
          "base_uri": "https://localhost:8080/"
        },
        "id": "6krmuTm6ECUK",
        "outputId": "d1914acc-674f-4d59-a8fc-bd3c636a122b"
      },
      "source": [
        "# python é linguagem de tipagem dinâmica.\n",
        "\n",
        "numero = 5 # número inteiro\n",
        "numero_decimal = 1.5 # número decimal\n",
        "texto = \"Guilherme\" # texto\n",
        "maiorIdade = True # Booleano\n",
        "\n",
        "print(numero, type(numero))\n",
        "print(numero_decimal, type(numero_decimal))\n",
        "print(texto, type(texto))\n",
        "print(maiorIdade, type(maiorIdade))\n",
        "\n",
        "tipo_numero = type(numero)\n",
        "\n",
        "print(tipo_numero, type(tipo_numero))\n",
        "\n"
      ],
      "execution_count": 9,
      "outputs": [
        {
          "output_type": "stream",
          "text": [
            "5 <class 'int'>\n",
            "1.5 <class 'float'>\n",
            "Guilherme <class 'str'>\n",
            "True <class 'bool'>\n",
            "<class 'int'> <class 'type'>\n"
          ],
          "name": "stdout"
        }
      ]
    },
    {
      "cell_type": "code",
      "metadata": {
        "colab": {
          "base_uri": "https://localhost:8080/"
        },
        "id": "unOpE-3cGzEq",
        "outputId": "5fd88d14-c9fa-4068-d9b9-c164b53300af"
      },
      "source": [
        "print(5 + 5) # tipo inteiro\n",
        "print(\"5 + 10\") # string \n",
        "print(\"Guilherme\" + \"Colares\" + \"Araujo\") # concatenação\n",
        "print(\"5\" + \"10\") # concatenação"
      ],
      "execution_count": 13,
      "outputs": [
        {
          "output_type": "stream",
          "text": [
            "10\n",
            "5 + 10\n",
            "GuilhermeColaresAraujo\n",
            "510\n"
          ],
          "name": "stdout"
        }
      ]
    },
    {
      "cell_type": "code",
      "metadata": {
        "colab": {
          "base_uri": "https://localhost:8080/"
        },
        "id": "BIm_EDLuIRMw",
        "outputId": "25c9524b-c839-462f-9970-4d7eb3f5e98d"
      },
      "source": [
        "# Operações matemáticas\n",
        "soma = 2 + 5.3\n",
        "subtracao = 30 - 8\n",
        "divisao = 10/3  \n",
        "multiplicacao = 5 * 5\n",
        "exponenciacao = 2**3\n",
        "quociente_divisao = 10 // 3 #arredonda\n",
        "resto_divisao = 10 % 3 \n",
        "\n",
        "print('soma :', soma)\n",
        "print('subtracao:', subtracao)\n",
        "print('divisão:', divisao)\n",
        "print('multiplicação:', multiplicacao)\n",
        "print('exponenciação:', exponenciacao)\n",
        "print('Div:', quociente_divisao)\n",
        "print('módulo:', resto_divisao)"
      ],
      "execution_count": 18,
      "outputs": [
        {
          "output_type": "stream",
          "text": [
            "soma : 7.3\n",
            "subtracao: 22\n",
            "divisão: 3.3333333333333335\n",
            "multiplicação: 25\n",
            "exponenciação: 8\n",
            "Div: 3\n",
            "módulo: 1\n"
          ],
          "name": "stdout"
        }
      ]
    },
    {
      "cell_type": "code",
      "metadata": {
        "colab": {
          "base_uri": "https://localhost:8080/"
        },
        "id": "L9H1h6xILVJ6",
        "outputId": "8cd2ea71-dff2-467c-b5a1-c699d13d0a2c"
      },
      "source": [
        "# Exercício 1 - \"E os 10% do garçom ?\"\n",
        "\n",
        "valor = float(input('Digite o valor do jantar: '))\n",
        "\n",
        "servico = valor * 0.1\n",
        "\n",
        "total = servico + valor \n",
        "\n",
        "print(f'O valor total do jantar foi de: {total:.2f}')\n"
      ],
      "execution_count": 52,
      "outputs": [
        {
          "output_type": "stream",
          "text": [
            "Digite o valor do jantar: 42.654\n",
            "O valor total do jantar foi de: 46.92\n"
          ],
          "name": "stdout"
        }
      ]
    },
    {
      "cell_type": "code",
      "metadata": {
        "colab": {
          "base_uri": "https://localhost:8080/"
        },
        "id": "QeeLCfASbkE_",
        "outputId": "bd231e85-6a65-41e8-c67b-3eea01f68b15"
      },
      "source": [
        "# Indentação e formatação dos blocos\n",
        "\n",
        "if True:\n",
        "  print('esse séra lido')\n",
        "\n",
        "if False:\n",
        "  print('esse não séra lido')\n",
        "\n",
        "print('esse também será lido')\n",
        "\n"
      ],
      "execution_count": null,
      "outputs": [
        {
          "output_type": "stream",
          "text": [
            "esse séra lido\n",
            "esse também será lido\n",
            "Fora do def\n",
            "dado no final no código\n",
            "5\n",
            "Dentro do def\n"
          ],
          "name": "stdout"
        }
      ]
    },
    {
      "cell_type": "code",
      "metadata": {
        "id": "XbsqHmFl70xd",
        "colab": {
          "base_uri": "https://localhost:8080/"
        },
        "outputId": "4d6c3a35-a400-4b4f-f51a-fe45da792169"
      },
      "source": [
        "def exibir_dados(dado):\n",
        "  print(dado)\n",
        "  print(5)\n",
        "  print(\"Dentro do def\")  \n",
        "\n",
        "print(\"Fora do def\")\n",
        "print()\n",
        "\n",
        "exibir_dados(\"dado no final no código\")  "
      ],
      "execution_count": 59,
      "outputs": [
        {
          "output_type": "stream",
          "text": [
            "Fora do def\n",
            "\n",
            "dado no final no código\n",
            "5\n",
            "Dentro do def\n"
          ],
          "name": "stdout"
        }
      ]
    },
    {
      "cell_type": "markdown",
      "metadata": {
        "id": "qbBumGuqAytZ"
      },
      "source": [
        "Exercícios\n"
      ]
    },
    {
      "cell_type": "markdown",
      "metadata": {
        "id": "1pG-zE1mCCRi"
      },
      "source": [
        "# Exercícios "
      ]
    },
    {
      "cell_type": "markdown",
      "metadata": {
        "id": "td13U6YXCMnN"
      },
      "source": [
        "Exercíos para praticar: https://paulosalvatore.github.io/exercicios_python/#home\n"
      ]
    },
    {
      "cell_type": "code",
      "metadata": {
        "id": "PanFz_ncCTjo"
      },
      "source": [
        "\"\"\"\n",
        " Exercício 1 \n",
        " link: https://github.com/paulosalvatore/ExerciciosPython/blob/master/exercicios/exercicio1.py\n",
        "\n",
        " Nome: Operações matemáticas\n",
        " Nível: Iniciante\n",
        "\"\"\"\n",
        "\n",
        "a = 10\n",
        "b = 3\n",
        "soma = a + b\n",
        "subtracao = a - b\n",
        "multiplicacao = a * b\n",
        "divisao = a / b\n",
        "exponenciacao = a**b\n",
        "resto_divisao = a % b\n",
        "\n",
        "\n",
        "print(soma)\n",
        "print(subtracao)\n",
        "print(multiplicacao)\n",
        "print(divisao)\n",
        "print(exponenciacao)\n",
        "print(resto_divisao)\n",
        "\n",
        "# resultado da subtração, multiplicação, divisão, exponenciação e resto da divisão inteira.\n",
        "\n",
        "\n"
      ],
      "execution_count": null,
      "outputs": []
    },
    {
      "cell_type": "code",
      "metadata": {
        "id": "legMfCupEKSo"
      },
      "source": [
        "\"\"\"\n",
        " Melhorando o exercício 1\n",
        "\"\"\"\n",
        "\n",
        "num1 = int(input('Digite o primeiro valor: '))\n",
        "num2 = int(input('Digite o segundo valor: '))\n",
        "\n",
        "print()\n",
        "print('Para soma digite: \"soma\"')\n",
        "print('Para subtração digite :\"sub\"')\n",
        "print('Para divisão digite: \"div\"')\n",
        "print('Para divisão de inteiros digite: \"div_inteiro\"')\n",
        "print('Para o módulo da divisão digite: \"resto_div\"')\n",
        "print('Para exponenciação digite: \"exp\"')\n",
        "\n",
        "print()\n",
        "op = input('Qual operação deseja? ')\n",
        "\n",
        "soma = num1 + num2\n",
        "sub = num1 - num2\n",
        "mult = num1 * num2\n",
        "div = num1 / num2 \n",
        "div_inteiro = num1 // num2 \n",
        "resto_div = num1 % num2\n",
        "exp = num1 ** num2\n",
        "\n",
        "if op == 'soma':\n",
        "  print(f'A soma dos valores é: {soma}')\n",
        "if op == 'sub':\n",
        "  print(f'A subtração dos valores é: {sub}')\n",
        "if op == 'mult':\n",
        "  print(f'A multiplicação dos valores é: {mult}')\n",
        "if op == 'div':\n",
        "  print(f'A divisão entre os valores é: , {div}')\n",
        "if op == 'div_inteiro':\n",
        "  print(f'A divisão inteira entre os valores é: {div_inteiro}')\n",
        "if op == 'resto_div':\n",
        "  print(f'O resto da divisão entre os valores é: {resto_div}')\n",
        "if op == 'exp':\n",
        "  print(f'A exponenciação do valor é: {exp}')\n",
        "  "
      ],
      "execution_count": null,
      "outputs": []
    },
    {
      "cell_type": "code",
      "metadata": {
        "colab": {
          "base_uri": "https://localhost:8080/"
        },
        "id": "_qLebhDFLwRo",
        "outputId": "9e138180-f3dd-494b-8b2e-11c4c07a6273"
      },
      "source": [
        "\"\"\"\n",
        "Exercício 2 \n",
        "link: https://github.com/paulosalvatore/ExerciciosPython/blob/master/exercicios/exercicio2.py\n",
        "\n",
        "Nome: Formar Números\n",
        "Nível: Iniciante\n",
        "﻿\"\"\"\n",
        "\n",
        "total_contra = 33.3333\n",
        "valor_pago = 220.22222\n",
        "troco = (valor_pago - total_contra)\n",
        "\n",
        "print(f'O total da conta foi de R${total_contra:.2f}, você '\n",
        "f'pagou R${valor_pago:.2f} e seu troco foi de R${troco:.2f}.')\n",
        "\n"
      ],
      "execution_count": null,
      "outputs": [
        {
          "output_type": "stream",
          "text": [
            "O total da conta foi de R$33.33, você pagou R$220.22 e seu troco foi de R$186.89.\n"
          ],
          "name": "stdout"
        }
      ]
    }
  ]
}